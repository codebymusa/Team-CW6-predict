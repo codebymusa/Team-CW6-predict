{
 "cells": [
  {
   "cell_type": "markdown",
   "id": "cd55186d",
   "metadata": {},
   "source": [
    "# Explore Data Science Academy"
   ]
  },
  {
   "cell_type": "markdown",
   "id": "e30f1021",
   "metadata": {},
   "source": [
    "## Honour Code\n",
    "\n",
    "I {Team CW6}, confirm - by submitting this document - that the solutions in this notebook are a result of my own work and that I abide by the [EDSA honour code](https://drive.google.com/file/d/1QDCjGZJ8-FmJE3bZdIQNwnJyQKPhHZBn/view?usp=sharing).\n",
    "\n",
    "Non-compliance with the honour code constitutes a material breach of contract."
   ]
  },
  {
   "cell_type": "markdown",
   "id": "8a9d5148",
   "metadata": {},
   "source": [
    "## Table of Contents\n",
    "\n",
    "1. [Introduction](#Introduction)\n",
    "\n",
    "2. [Problem statement](#problem)\n",
    "\t\n",
    "3. [Importing libraries](#import)\n",
    "\n",
    "4. [Loading data](#data)\n",
    "\t\n",
    "5. [Exploratory data analysis](#eda)\n",
    "\t\n",
    "6. [Data preprocessing](#engineering)\n",
    "\t\n",
    "7. [Model deployment](#modeling)\n",
    "\t\t\n",
    "\t7.1. [Support vector machine](#svm_one)\n",
    "\n",
    "\t7.2. [Linear support vector machine](#svm_two)\n",
    "\n",
    "\t7.3. [Multinomial naive bayes](#naive_bayes_one)\n",
    "\n",
    "\t7.4. [Logistic regression](#logistic_one)\n",
    "\t\t\n",
    "8. [Model performance](#performance)\n",
    "\n",
    "\t8.1. [Support vector machine](#svm_three)\n",
    "\n",
    "\t8.2. [Linear support vector machine](#svm_four)\n",
    "\n",
    "\t8.3. [Multinomial naive bayes](#naive_bayes_two)\n",
    "\n",
    "\t8.4. [Logistic regression](#logistic_two)\n",
    "\t\t\n",
    "9. [Model explanation](#explanation)\n",
    "\t\n",
    "10. [Saving model as pickle file](#pickle)\n",
    "\n",
    "11. [Conclusion](#conclusion)\n",
    "\n",
    "12. [References](#references)"
   ]
  },
  {
   "cell_type": "markdown",
   "id": "9bd1c398",
   "metadata": {},
   "source": [
    "## 1. Introduction"
   ]
  },
  {
   "cell_type": "code",
   "execution_count": null,
   "id": "920abc2b",
   "metadata": {},
   "outputs": [],
   "source": []
  },
  {
   "cell_type": "markdown",
   "id": "c8f2c4b6",
   "metadata": {},
   "source": [
    "## 2. Problem statement"
   ]
  },
  {
   "cell_type": "markdown",
   "id": "3fe52fc0",
   "metadata": {},
   "source": [
    "To find and recommend movies that people are most likely to watch"
   ]
  },
  {
   "cell_type": "markdown",
   "id": "2fb26e58",
   "metadata": {},
   "source": [
    "## 3. Importing libraries"
   ]
  },
  {
   "cell_type": "code",
   "execution_count": 18,
   "id": "db1579d8",
   "metadata": {},
   "outputs": [],
   "source": [
    "import pandas as pd\n",
    "import numpy as np\n",
    "import seaborn as sns\n",
    "import matplotlib.pyplot as plt\n",
    "import warnings\n",
    "warnings.filterwarnings('ignore')"
   ]
  },
  {
   "cell_type": "markdown",
   "id": "00d8477c",
   "metadata": {},
   "source": [
    "## 4. Loading data"
   ]
  },
  {
   "cell_type": "code",
   "execution_count": 28,
   "id": "845dfde1",
   "metadata": {},
   "outputs": [],
   "source": [
    "df_train = pd.read_csv('train.csv')\n",
    "df_test = pd.read_csv('test.csv')\n",
    "\n",
    "df_movies = pd.read_csv('movies.csv')\n",
    "df_imdb_data = pd.read_csv('imdb_data.csv')"
   ]
  },
  {
   "cell_type": "markdown",
   "id": "7b1b7e50",
   "metadata": {},
   "source": [
    "## 5. Exploratory data analysis"
   ]
  },
  {
   "cell_type": "code",
   "execution_count": 48,
   "id": "e2a64470",
   "metadata": {},
   "outputs": [
    {
     "data": {
      "text/html": [
       "<div>\n",
       "<style scoped>\n",
       "    .dataframe tbody tr th:only-of-type {\n",
       "        vertical-align: middle;\n",
       "    }\n",
       "\n",
       "    .dataframe tbody tr th {\n",
       "        vertical-align: top;\n",
       "    }\n",
       "\n",
       "    .dataframe thead th {\n",
       "        text-align: right;\n",
       "    }\n",
       "</style>\n",
       "<table border=\"1\" class=\"dataframe\">\n",
       "  <thead>\n",
       "    <tr style=\"text-align: right;\">\n",
       "      <th></th>\n",
       "      <th>userId</th>\n",
       "      <th>movieId</th>\n",
       "      <th>rating</th>\n",
       "      <th>timestamp</th>\n",
       "    </tr>\n",
       "  </thead>\n",
       "  <tbody>\n",
       "    <tr>\n",
       "      <th>3933573</th>\n",
       "      <td>118176</td>\n",
       "      <td>593</td>\n",
       "      <td>5.0</td>\n",
       "      <td>1197630915</td>\n",
       "    </tr>\n",
       "    <tr>\n",
       "      <th>7585778</th>\n",
       "      <td>32810</td>\n",
       "      <td>4282</td>\n",
       "      <td>5.0</td>\n",
       "      <td>1111718329</td>\n",
       "    </tr>\n",
       "    <tr>\n",
       "      <th>7585749</th>\n",
       "      <td>66818</td>\n",
       "      <td>1096</td>\n",
       "      <td>5.0</td>\n",
       "      <td>931950762</td>\n",
       "    </tr>\n",
       "    <tr>\n",
       "      <th>1564921</th>\n",
       "      <td>148022</td>\n",
       "      <td>2064</td>\n",
       "      <td>5.0</td>\n",
       "      <td>945887531</td>\n",
       "    </tr>\n",
       "    <tr>\n",
       "      <th>1564920</th>\n",
       "      <td>144508</td>\n",
       "      <td>589</td>\n",
       "      <td>5.0</td>\n",
       "      <td>838570244</td>\n",
       "    </tr>\n",
       "  </tbody>\n",
       "</table>\n",
       "</div>"
      ],
      "text/plain": [
       "         userId  movieId  rating   timestamp\n",
       "3933573  118176      593     5.0  1197630915\n",
       "7585778   32810     4282     5.0  1111718329\n",
       "7585749   66818     1096     5.0   931950762\n",
       "1564921  148022     2064     5.0   945887531\n",
       "1564920  144508      589     5.0   838570244"
      ]
     },
     "execution_count": 48,
     "metadata": {},
     "output_type": "execute_result"
    }
   ],
   "source": [
    "df_train.sort_values('rating', ascending=False).head()"
   ]
  },
  {
   "cell_type": "code",
   "execution_count": 30,
   "id": "c12ba104",
   "metadata": {},
   "outputs": [
    {
     "data": {
      "text/html": [
       "<div>\n",
       "<style scoped>\n",
       "    .dataframe tbody tr th:only-of-type {\n",
       "        vertical-align: middle;\n",
       "    }\n",
       "\n",
       "    .dataframe tbody tr th {\n",
       "        vertical-align: top;\n",
       "    }\n",
       "\n",
       "    .dataframe thead th {\n",
       "        text-align: right;\n",
       "    }\n",
       "</style>\n",
       "<table border=\"1\" class=\"dataframe\">\n",
       "  <thead>\n",
       "    <tr style=\"text-align: right;\">\n",
       "      <th></th>\n",
       "      <th>movieId</th>\n",
       "      <th>title</th>\n",
       "      <th>genres</th>\n",
       "    </tr>\n",
       "  </thead>\n",
       "  <tbody>\n",
       "    <tr>\n",
       "      <th>0</th>\n",
       "      <td>1</td>\n",
       "      <td>Toy Story (1995)</td>\n",
       "      <td>Adventure|Animation|Children|Comedy|Fantasy</td>\n",
       "    </tr>\n",
       "    <tr>\n",
       "      <th>1</th>\n",
       "      <td>2</td>\n",
       "      <td>Jumanji (1995)</td>\n",
       "      <td>Adventure|Children|Fantasy</td>\n",
       "    </tr>\n",
       "    <tr>\n",
       "      <th>2</th>\n",
       "      <td>3</td>\n",
       "      <td>Grumpier Old Men (1995)</td>\n",
       "      <td>Comedy|Romance</td>\n",
       "    </tr>\n",
       "    <tr>\n",
       "      <th>3</th>\n",
       "      <td>4</td>\n",
       "      <td>Waiting to Exhale (1995)</td>\n",
       "      <td>Comedy|Drama|Romance</td>\n",
       "    </tr>\n",
       "    <tr>\n",
       "      <th>4</th>\n",
       "      <td>5</td>\n",
       "      <td>Father of the Bride Part II (1995)</td>\n",
       "      <td>Comedy</td>\n",
       "    </tr>\n",
       "  </tbody>\n",
       "</table>\n",
       "</div>"
      ],
      "text/plain": [
       "   movieId                               title  \\\n",
       "0        1                    Toy Story (1995)   \n",
       "1        2                      Jumanji (1995)   \n",
       "2        3             Grumpier Old Men (1995)   \n",
       "3        4            Waiting to Exhale (1995)   \n",
       "4        5  Father of the Bride Part II (1995)   \n",
       "\n",
       "                                        genres  \n",
       "0  Adventure|Animation|Children|Comedy|Fantasy  \n",
       "1                   Adventure|Children|Fantasy  \n",
       "2                               Comedy|Romance  \n",
       "3                         Comedy|Drama|Romance  \n",
       "4                                       Comedy  "
      ]
     },
     "execution_count": 30,
     "metadata": {},
     "output_type": "execute_result"
    }
   ],
   "source": [
    "# checking the movies we have\n",
    "df_movies.head()"
   ]
  },
  {
   "cell_type": "code",
   "execution_count": 31,
   "id": "3cfb16c3",
   "metadata": {
    "scrolled": true
   },
   "outputs": [
    {
     "data": {
      "text/html": [
       "<div>\n",
       "<style scoped>\n",
       "    .dataframe tbody tr th:only-of-type {\n",
       "        vertical-align: middle;\n",
       "    }\n",
       "\n",
       "    .dataframe tbody tr th {\n",
       "        vertical-align: top;\n",
       "    }\n",
       "\n",
       "    .dataframe thead th {\n",
       "        text-align: right;\n",
       "    }\n",
       "</style>\n",
       "<table border=\"1\" class=\"dataframe\">\n",
       "  <thead>\n",
       "    <tr style=\"text-align: right;\">\n",
       "      <th></th>\n",
       "      <th>movieId</th>\n",
       "      <th>title_cast</th>\n",
       "      <th>director</th>\n",
       "      <th>runtime</th>\n",
       "      <th>budget</th>\n",
       "      <th>plot_keywords</th>\n",
       "    </tr>\n",
       "  </thead>\n",
       "  <tbody>\n",
       "    <tr>\n",
       "      <th>0</th>\n",
       "      <td>1</td>\n",
       "      <td>Tom Hanks|Tim Allen|Don Rickles|Jim Varney|Wal...</td>\n",
       "      <td>John Lasseter</td>\n",
       "      <td>81.0</td>\n",
       "      <td>$30,000,000</td>\n",
       "      <td>toy|rivalry|cowboy|cgi animation</td>\n",
       "    </tr>\n",
       "    <tr>\n",
       "      <th>1</th>\n",
       "      <td>2</td>\n",
       "      <td>Robin Williams|Jonathan Hyde|Kirsten Dunst|Bra...</td>\n",
       "      <td>Jonathan Hensleigh</td>\n",
       "      <td>104.0</td>\n",
       "      <td>$65,000,000</td>\n",
       "      <td>board game|adventurer|fight|game</td>\n",
       "    </tr>\n",
       "    <tr>\n",
       "      <th>2</th>\n",
       "      <td>3</td>\n",
       "      <td>Walter Matthau|Jack Lemmon|Sophia Loren|Ann-Ma...</td>\n",
       "      <td>Mark Steven Johnson</td>\n",
       "      <td>101.0</td>\n",
       "      <td>$25,000,000</td>\n",
       "      <td>boat|lake|neighbor|rivalry</td>\n",
       "    </tr>\n",
       "    <tr>\n",
       "      <th>3</th>\n",
       "      <td>4</td>\n",
       "      <td>Whitney Houston|Angela Bassett|Loretta Devine|...</td>\n",
       "      <td>Terry McMillan</td>\n",
       "      <td>124.0</td>\n",
       "      <td>$16,000,000</td>\n",
       "      <td>black american|husband wife relationship|betra...</td>\n",
       "    </tr>\n",
       "    <tr>\n",
       "      <th>4</th>\n",
       "      <td>5</td>\n",
       "      <td>Steve Martin|Diane Keaton|Martin Short|Kimberl...</td>\n",
       "      <td>Albert Hackett</td>\n",
       "      <td>106.0</td>\n",
       "      <td>$30,000,000</td>\n",
       "      <td>fatherhood|doberman|dog|mansion</td>\n",
       "    </tr>\n",
       "  </tbody>\n",
       "</table>\n",
       "</div>"
      ],
      "text/plain": [
       "   movieId                                         title_cast  \\\n",
       "0        1  Tom Hanks|Tim Allen|Don Rickles|Jim Varney|Wal...   \n",
       "1        2  Robin Williams|Jonathan Hyde|Kirsten Dunst|Bra...   \n",
       "2        3  Walter Matthau|Jack Lemmon|Sophia Loren|Ann-Ma...   \n",
       "3        4  Whitney Houston|Angela Bassett|Loretta Devine|...   \n",
       "4        5  Steve Martin|Diane Keaton|Martin Short|Kimberl...   \n",
       "\n",
       "              director  runtime       budget  \\\n",
       "0        John Lasseter     81.0  $30,000,000   \n",
       "1   Jonathan Hensleigh    104.0  $65,000,000   \n",
       "2  Mark Steven Johnson    101.0  $25,000,000   \n",
       "3       Terry McMillan    124.0  $16,000,000   \n",
       "4       Albert Hackett    106.0  $30,000,000   \n",
       "\n",
       "                                       plot_keywords  \n",
       "0                   toy|rivalry|cowboy|cgi animation  \n",
       "1                   board game|adventurer|fight|game  \n",
       "2                         boat|lake|neighbor|rivalry  \n",
       "3  black american|husband wife relationship|betra...  \n",
       "4                    fatherhood|doberman|dog|mansion  "
      ]
     },
     "execution_count": 31,
     "metadata": {},
     "output_type": "execute_result"
    }
   ],
   "source": [
    "# viewing the database\n",
    "df_imdb_data.head()"
   ]
  },
  {
   "cell_type": "code",
   "execution_count": 32,
   "id": "585a3301",
   "metadata": {},
   "outputs": [
    {
     "data": {
      "text/plain": [
       "0"
      ]
     },
     "execution_count": 32,
     "metadata": {},
     "output_type": "execute_result"
    }
   ],
   "source": [
    "df_train.isna().sum().sum()"
   ]
  },
  {
   "cell_type": "code",
   "execution_count": 33,
   "id": "0ca810ea",
   "metadata": {},
   "outputs": [
    {
     "data": {
      "text/plain": [
       "0"
      ]
     },
     "execution_count": 33,
     "metadata": {},
     "output_type": "execute_result"
    }
   ],
   "source": [
    "df_movies.isna().sum().sum()"
   ]
  },
  {
   "cell_type": "code",
   "execution_count": 34,
   "id": "1b02c7b4",
   "metadata": {},
   "outputs": [
    {
     "data": {
      "text/html": [
       "<div>\n",
       "<style scoped>\n",
       "    .dataframe tbody tr th:only-of-type {\n",
       "        vertical-align: middle;\n",
       "    }\n",
       "\n",
       "    .dataframe tbody tr th {\n",
       "        vertical-align: top;\n",
       "    }\n",
       "\n",
       "    .dataframe thead th {\n",
       "        text-align: right;\n",
       "    }\n",
       "</style>\n",
       "<table border=\"1\" class=\"dataframe\">\n",
       "  <thead>\n",
       "    <tr style=\"text-align: right;\">\n",
       "      <th></th>\n",
       "      <th>movieId</th>\n",
       "      <th>title_cast</th>\n",
       "      <th>director</th>\n",
       "      <th>runtime</th>\n",
       "      <th>budget</th>\n",
       "      <th>plot_keywords</th>\n",
       "    </tr>\n",
       "  </thead>\n",
       "  <tbody>\n",
       "    <tr>\n",
       "      <th>0</th>\n",
       "      <td>1</td>\n",
       "      <td>Tom Hanks|Tim Allen|Don Rickles|Jim Varney|Wal...</td>\n",
       "      <td>John Lasseter</td>\n",
       "      <td>81.0</td>\n",
       "      <td>$30,000,000</td>\n",
       "      <td>toy|rivalry|cowboy|cgi animation</td>\n",
       "    </tr>\n",
       "    <tr>\n",
       "      <th>1</th>\n",
       "      <td>2</td>\n",
       "      <td>Robin Williams|Jonathan Hyde|Kirsten Dunst|Bra...</td>\n",
       "      <td>Jonathan Hensleigh</td>\n",
       "      <td>104.0</td>\n",
       "      <td>$65,000,000</td>\n",
       "      <td>board game|adventurer|fight|game</td>\n",
       "    </tr>\n",
       "    <tr>\n",
       "      <th>2</th>\n",
       "      <td>3</td>\n",
       "      <td>Walter Matthau|Jack Lemmon|Sophia Loren|Ann-Ma...</td>\n",
       "      <td>Mark Steven Johnson</td>\n",
       "      <td>101.0</td>\n",
       "      <td>$25,000,000</td>\n",
       "      <td>boat|lake|neighbor|rivalry</td>\n",
       "    </tr>\n",
       "    <tr>\n",
       "      <th>3</th>\n",
       "      <td>4</td>\n",
       "      <td>Whitney Houston|Angela Bassett|Loretta Devine|...</td>\n",
       "      <td>Terry McMillan</td>\n",
       "      <td>124.0</td>\n",
       "      <td>$16,000,000</td>\n",
       "      <td>black american|husband wife relationship|betra...</td>\n",
       "    </tr>\n",
       "    <tr>\n",
       "      <th>4</th>\n",
       "      <td>5</td>\n",
       "      <td>Steve Martin|Diane Keaton|Martin Short|Kimberl...</td>\n",
       "      <td>Albert Hackett</td>\n",
       "      <td>106.0</td>\n",
       "      <td>$30,000,000</td>\n",
       "      <td>fatherhood|doberman|dog|mansion</td>\n",
       "    </tr>\n",
       "  </tbody>\n",
       "</table>\n",
       "</div>"
      ],
      "text/plain": [
       "   movieId                                         title_cast  \\\n",
       "0        1  Tom Hanks|Tim Allen|Don Rickles|Jim Varney|Wal...   \n",
       "1        2  Robin Williams|Jonathan Hyde|Kirsten Dunst|Bra...   \n",
       "2        3  Walter Matthau|Jack Lemmon|Sophia Loren|Ann-Ma...   \n",
       "3        4  Whitney Houston|Angela Bassett|Loretta Devine|...   \n",
       "4        5  Steve Martin|Diane Keaton|Martin Short|Kimberl...   \n",
       "\n",
       "              director  runtime       budget  \\\n",
       "0        John Lasseter     81.0  $30,000,000   \n",
       "1   Jonathan Hensleigh    104.0  $65,000,000   \n",
       "2  Mark Steven Johnson    101.0  $25,000,000   \n",
       "3       Terry McMillan    124.0  $16,000,000   \n",
       "4       Albert Hackett    106.0  $30,000,000   \n",
       "\n",
       "                                       plot_keywords  \n",
       "0                   toy|rivalry|cowboy|cgi animation  \n",
       "1                   board game|adventurer|fight|game  \n",
       "2                         boat|lake|neighbor|rivalry  \n",
       "3  black american|husband wife relationship|betra...  \n",
       "4                    fatherhood|doberman|dog|mansion  "
      ]
     },
     "execution_count": 34,
     "metadata": {},
     "output_type": "execute_result"
    }
   ],
   "source": [
    "df_imdb_data.fillna(0).head()"
   ]
  },
  {
   "cell_type": "code",
   "execution_count": 27,
   "id": "f21dd908",
   "metadata": {},
   "outputs": [
    {
     "data": {
      "text/plain": [
       "1634261443.0"
      ]
     },
     "execution_count": 27,
     "metadata": {},
     "output_type": "execute_result"
    }
   ],
   "source": [
    "df_imdb_data.sum().sum()"
   ]
  },
  {
   "cell_type": "code",
   "execution_count": 55,
   "id": "dc3b5666",
   "metadata": {},
   "outputs": [
    {
     "data": {
      "text/html": [
       "<div>\n",
       "<style scoped>\n",
       "    .dataframe tbody tr th:only-of-type {\n",
       "        vertical-align: middle;\n",
       "    }\n",
       "\n",
       "    .dataframe tbody tr th {\n",
       "        vertical-align: top;\n",
       "    }\n",
       "\n",
       "    .dataframe thead th {\n",
       "        text-align: right;\n",
       "    }\n",
       "</style>\n",
       "<table border=\"1\" class=\"dataframe\">\n",
       "  <thead>\n",
       "    <tr style=\"text-align: right;\">\n",
       "      <th></th>\n",
       "      <th>userId</th>\n",
       "      <th>movieId</th>\n",
       "      <th>rating</th>\n",
       "      <th>timestamp</th>\n",
       "      <th>title</th>\n",
       "      <th>genres</th>\n",
       "    </tr>\n",
       "  </thead>\n",
       "  <tbody>\n",
       "    <tr>\n",
       "      <th>7291637</th>\n",
       "      <td>1</td>\n",
       "      <td>7939</td>\n",
       "      <td>2.5</td>\n",
       "      <td>1147869183</td>\n",
       "      <td>Through a Glass Darkly (Såsom i en spegel) (1961)</td>\n",
       "      <td>Drama</td>\n",
       "    </tr>\n",
       "    <tr>\n",
       "      <th>8249351</th>\n",
       "      <td>1</td>\n",
       "      <td>7323</td>\n",
       "      <td>3.5</td>\n",
       "      <td>1147869119</td>\n",
       "      <td>Good bye, Lenin! (2003)</td>\n",
       "      <td>Comedy|Drama</td>\n",
       "    </tr>\n",
       "    <tr>\n",
       "      <th>8328154</th>\n",
       "      <td>1</td>\n",
       "      <td>7940</td>\n",
       "      <td>4.5</td>\n",
       "      <td>1147877967</td>\n",
       "      <td>The Magician (1958)</td>\n",
       "      <td>Drama</td>\n",
       "    </tr>\n",
       "    <tr>\n",
       "      <th>9765874</th>\n",
       "      <td>1</td>\n",
       "      <td>7937</td>\n",
       "      <td>3.0</td>\n",
       "      <td>1147878055</td>\n",
       "      <td>Silence, The (Tystnaden) (1963)</td>\n",
       "      <td>Drama</td>\n",
       "    </tr>\n",
       "    <tr>\n",
       "      <th>8597507</th>\n",
       "      <td>1</td>\n",
       "      <td>8154</td>\n",
       "      <td>5.0</td>\n",
       "      <td>1147868865</td>\n",
       "      <td>Dolce Vita, La (1960)</td>\n",
       "      <td>Drama</td>\n",
       "    </tr>\n",
       "  </tbody>\n",
       "</table>\n",
       "</div>"
      ],
      "text/plain": [
       "         userId  movieId  rating   timestamp  \\\n",
       "7291637       1     7939     2.5  1147869183   \n",
       "8249351       1     7323     3.5  1147869119   \n",
       "8328154       1     7940     4.5  1147877967   \n",
       "9765874       1     7937     3.0  1147878055   \n",
       "8597507       1     8154     5.0  1147868865   \n",
       "\n",
       "                                                     title        genres  \n",
       "7291637  Through a Glass Darkly (Såsom i en spegel) (1961)         Drama  \n",
       "8249351                            Good bye, Lenin! (2003)  Comedy|Drama  \n",
       "8328154                                The Magician (1958)         Drama  \n",
       "9765874                    Silence, The (Tystnaden) (1963)         Drama  \n",
       "8597507                              Dolce Vita, La (1960)         Drama  "
      ]
     },
     "execution_count": 55,
     "metadata": {},
     "output_type": "execute_result"
    }
   ],
   "source": [
    "train_movies = pd.merge( df_train, df_movies, on='movieId')\n",
    "train_movies.sort_values('userId', ascending=True).head()"
   ]
  },
  {
   "cell_type": "code",
   "execution_count": 56,
   "id": "b78a983d",
   "metadata": {},
   "outputs": [
    {
     "data": {
      "text/plain": [
       "(10000038, 6)"
      ]
     },
     "execution_count": 56,
     "metadata": {},
     "output_type": "execute_result"
    }
   ],
   "source": [
    "train_movies.shape"
   ]
  },
  {
   "cell_type": "code",
   "execution_count": 57,
   "id": "4525a05c",
   "metadata": {},
   "outputs": [
    {
     "data": {
      "text/html": [
       "<div>\n",
       "<style scoped>\n",
       "    .dataframe tbody tr th:only-of-type {\n",
       "        vertical-align: middle;\n",
       "    }\n",
       "\n",
       "    .dataframe tbody tr th {\n",
       "        vertical-align: top;\n",
       "    }\n",
       "\n",
       "    .dataframe thead th {\n",
       "        text-align: right;\n",
       "    }\n",
       "</style>\n",
       "<table border=\"1\" class=\"dataframe\">\n",
       "  <thead>\n",
       "    <tr style=\"text-align: right;\">\n",
       "      <th></th>\n",
       "      <th>userId</th>\n",
       "      <th>movieId</th>\n",
       "      <th>rating</th>\n",
       "      <th>timestamp</th>\n",
       "    </tr>\n",
       "  </thead>\n",
       "  <tbody>\n",
       "    <tr>\n",
       "      <th>count</th>\n",
       "      <td>1.000004e+07</td>\n",
       "      <td>1.000004e+07</td>\n",
       "      <td>1.000004e+07</td>\n",
       "      <td>1.000004e+07</td>\n",
       "    </tr>\n",
       "    <tr>\n",
       "      <th>mean</th>\n",
       "      <td>8.119909e+04</td>\n",
       "      <td>2.138911e+04</td>\n",
       "      <td>3.533395e+00</td>\n",
       "      <td>1.215677e+09</td>\n",
       "    </tr>\n",
       "    <tr>\n",
       "      <th>std</th>\n",
       "      <td>4.679359e+04</td>\n",
       "      <td>3.919578e+04</td>\n",
       "      <td>1.061124e+00</td>\n",
       "      <td>2.268921e+08</td>\n",
       "    </tr>\n",
       "    <tr>\n",
       "      <th>min</th>\n",
       "      <td>1.000000e+00</td>\n",
       "      <td>1.000000e+00</td>\n",
       "      <td>5.000000e-01</td>\n",
       "      <td>7.896520e+08</td>\n",
       "    </tr>\n",
       "    <tr>\n",
       "      <th>25%</th>\n",
       "      <td>4.051000e+04</td>\n",
       "      <td>1.197000e+03</td>\n",
       "      <td>3.000000e+00</td>\n",
       "      <td>1.011742e+09</td>\n",
       "    </tr>\n",
       "    <tr>\n",
       "      <th>50%</th>\n",
       "      <td>8.091400e+04</td>\n",
       "      <td>2.947000e+03</td>\n",
       "      <td>3.500000e+00</td>\n",
       "      <td>1.199019e+09</td>\n",
       "    </tr>\n",
       "    <tr>\n",
       "      <th>75%</th>\n",
       "      <td>1.215790e+05</td>\n",
       "      <td>8.630000e+03</td>\n",
       "      <td>4.000000e+00</td>\n",
       "      <td>1.447242e+09</td>\n",
       "    </tr>\n",
       "    <tr>\n",
       "      <th>max</th>\n",
       "      <td>1.625410e+05</td>\n",
       "      <td>2.091710e+05</td>\n",
       "      <td>5.000000e+00</td>\n",
       "      <td>1.574328e+09</td>\n",
       "    </tr>\n",
       "  </tbody>\n",
       "</table>\n",
       "</div>"
      ],
      "text/plain": [
       "             userId       movieId        rating     timestamp\n",
       "count  1.000004e+07  1.000004e+07  1.000004e+07  1.000004e+07\n",
       "mean   8.119909e+04  2.138911e+04  3.533395e+00  1.215677e+09\n",
       "std    4.679359e+04  3.919578e+04  1.061124e+00  2.268921e+08\n",
       "min    1.000000e+00  1.000000e+00  5.000000e-01  7.896520e+08\n",
       "25%    4.051000e+04  1.197000e+03  3.000000e+00  1.011742e+09\n",
       "50%    8.091400e+04  2.947000e+03  3.500000e+00  1.199019e+09\n",
       "75%    1.215790e+05  8.630000e+03  4.000000e+00  1.447242e+09\n",
       "max    1.625410e+05  2.091710e+05  5.000000e+00  1.574328e+09"
      ]
     },
     "execution_count": 57,
     "metadata": {},
     "output_type": "execute_result"
    }
   ],
   "source": [
    "train_movies.describe()"
   ]
  },
  {
   "cell_type": "code",
   "execution_count": 58,
   "id": "31fd0da5",
   "metadata": {},
   "outputs": [
    {
     "data": {
      "text/html": [
       "<div>\n",
       "<style scoped>\n",
       "    .dataframe tbody tr th:only-of-type {\n",
       "        vertical-align: middle;\n",
       "    }\n",
       "\n",
       "    .dataframe tbody tr th {\n",
       "        vertical-align: top;\n",
       "    }\n",
       "\n",
       "    .dataframe thead th {\n",
       "        text-align: right;\n",
       "    }\n",
       "</style>\n",
       "<table border=\"1\" class=\"dataframe\">\n",
       "  <thead>\n",
       "    <tr style=\"text-align: right;\">\n",
       "      <th></th>\n",
       "      <th>userId</th>\n",
       "      <th>movieId</th>\n",
       "      <th>rating</th>\n",
       "      <th>timestamp</th>\n",
       "    </tr>\n",
       "  </thead>\n",
       "  <tbody>\n",
       "    <tr>\n",
       "      <th>userId</th>\n",
       "      <td>1.000000</td>\n",
       "      <td>-0.004270</td>\n",
       "      <td>0.002202</td>\n",
       "      <td>-0.001347</td>\n",
       "    </tr>\n",
       "    <tr>\n",
       "      <th>movieId</th>\n",
       "      <td>-0.004270</td>\n",
       "      <td>1.000000</td>\n",
       "      <td>-0.008940</td>\n",
       "      <td>0.520786</td>\n",
       "    </tr>\n",
       "    <tr>\n",
       "      <th>rating</th>\n",
       "      <td>0.002202</td>\n",
       "      <td>-0.008940</td>\n",
       "      <td>1.000000</td>\n",
       "      <td>0.010301</td>\n",
       "    </tr>\n",
       "    <tr>\n",
       "      <th>timestamp</th>\n",
       "      <td>-0.001347</td>\n",
       "      <td>0.520786</td>\n",
       "      <td>0.010301</td>\n",
       "      <td>1.000000</td>\n",
       "    </tr>\n",
       "  </tbody>\n",
       "</table>\n",
       "</div>"
      ],
      "text/plain": [
       "             userId   movieId    rating  timestamp\n",
       "userId     1.000000 -0.004270  0.002202  -0.001347\n",
       "movieId   -0.004270  1.000000 -0.008940   0.520786\n",
       "rating     0.002202 -0.008940  1.000000   0.010301\n",
       "timestamp -0.001347  0.520786  0.010301   1.000000"
      ]
     },
     "execution_count": 58,
     "metadata": {},
     "output_type": "execute_result"
    }
   ],
   "source": [
    "train_movies.corr()"
   ]
  },
  {
   "cell_type": "code",
   "execution_count": 59,
   "id": "5f91059b",
   "metadata": {},
   "outputs": [
    {
     "data": {
      "text/plain": [
       "0"
      ]
     },
     "execution_count": 59,
     "metadata": {},
     "output_type": "execute_result"
    }
   ],
   "source": [
    "train_movies.isna().sum().sum()"
   ]
  },
  {
   "cell_type": "markdown",
   "id": "aa5f27a7",
   "metadata": {},
   "source": [
    "## 6.Data preprocessing"
   ]
  },
  {
   "cell_type": "code",
   "execution_count": 62,
   "id": "8d681940",
   "metadata": {},
   "outputs": [
    {
     "data": {
      "text/html": [
       "<div>\n",
       "<style scoped>\n",
       "    .dataframe tbody tr th:only-of-type {\n",
       "        vertical-align: middle;\n",
       "    }\n",
       "\n",
       "    .dataframe tbody tr th {\n",
       "        vertical-align: top;\n",
       "    }\n",
       "\n",
       "    .dataframe thead th {\n",
       "        text-align: right;\n",
       "    }\n",
       "</style>\n",
       "<table border=\"1\" class=\"dataframe\">\n",
       "  <thead>\n",
       "    <tr style=\"text-align: right;\">\n",
       "      <th></th>\n",
       "      <th>userId</th>\n",
       "      <th>movieId</th>\n",
       "      <th>rating</th>\n",
       "      <th>timestamp</th>\n",
       "      <th>title</th>\n",
       "      <th>genres</th>\n",
       "    </tr>\n",
       "  </thead>\n",
       "  <tbody>\n",
       "    <tr>\n",
       "      <th>0</th>\n",
       "      <td>5163</td>\n",
       "      <td>57669</td>\n",
       "      <td>4.0</td>\n",
       "      <td>1518349992</td>\n",
       "      <td>In Bruges (2008)</td>\n",
       "      <td>Comedy|Crime|Drama|Thriller</td>\n",
       "    </tr>\n",
       "    <tr>\n",
       "      <th>1</th>\n",
       "      <td>87388</td>\n",
       "      <td>57669</td>\n",
       "      <td>3.5</td>\n",
       "      <td>1237455297</td>\n",
       "      <td>In Bruges (2008)</td>\n",
       "      <td>Comedy|Crime|Drama|Thriller</td>\n",
       "    </tr>\n",
       "    <tr>\n",
       "      <th>2</th>\n",
       "      <td>137050</td>\n",
       "      <td>57669</td>\n",
       "      <td>4.0</td>\n",
       "      <td>1425631854</td>\n",
       "      <td>In Bruges (2008)</td>\n",
       "      <td>Comedy|Crime|Drama|Thriller</td>\n",
       "    </tr>\n",
       "    <tr>\n",
       "      <th>3</th>\n",
       "      <td>120490</td>\n",
       "      <td>57669</td>\n",
       "      <td>4.5</td>\n",
       "      <td>1408228517</td>\n",
       "      <td>In Bruges (2008)</td>\n",
       "      <td>Comedy|Crime|Drama|Thriller</td>\n",
       "    </tr>\n",
       "    <tr>\n",
       "      <th>4</th>\n",
       "      <td>50616</td>\n",
       "      <td>57669</td>\n",
       "      <td>4.5</td>\n",
       "      <td>1446941640</td>\n",
       "      <td>In Bruges (2008)</td>\n",
       "      <td>Comedy|Crime|Drama|Thriller</td>\n",
       "    </tr>\n",
       "    <tr>\n",
       "      <th>...</th>\n",
       "      <td>...</td>\n",
       "      <td>...</td>\n",
       "      <td>...</td>\n",
       "      <td>...</td>\n",
       "      <td>...</td>\n",
       "      <td>...</td>\n",
       "    </tr>\n",
       "    <tr>\n",
       "      <th>10000033</th>\n",
       "      <td>84146</td>\n",
       "      <td>107912</td>\n",
       "      <td>3.0</td>\n",
       "      <td>1389449965</td>\n",
       "      <td>Fallen, The (2004)</td>\n",
       "      <td>Action|Drama|War</td>\n",
       "    </tr>\n",
       "    <tr>\n",
       "      <th>10000034</th>\n",
       "      <td>72315</td>\n",
       "      <td>190143</td>\n",
       "      <td>2.5</td>\n",
       "      <td>1567628158</td>\n",
       "      <td>Formentera Lady</td>\n",
       "      <td>(no genres listed)</td>\n",
       "    </tr>\n",
       "    <tr>\n",
       "      <th>10000035</th>\n",
       "      <td>131116</td>\n",
       "      <td>206347</td>\n",
       "      <td>3.0</td>\n",
       "      <td>1568558126</td>\n",
       "      <td>Nocturne (1946)</td>\n",
       "      <td>Crime|Drama|Mystery</td>\n",
       "    </tr>\n",
       "    <tr>\n",
       "      <th>10000036</th>\n",
       "      <td>85757</td>\n",
       "      <td>196867</td>\n",
       "      <td>3.5</td>\n",
       "      <td>1563175258</td>\n",
       "      <td>Guys &amp; Balls (2004)</td>\n",
       "      <td>Comedy|Romance</td>\n",
       "    </tr>\n",
       "    <tr>\n",
       "      <th>10000037</th>\n",
       "      <td>72315</td>\n",
       "      <td>97148</td>\n",
       "      <td>3.0</td>\n",
       "      <td>1567584197</td>\n",
       "      <td>Elia Kazan: A Director's Journey (1995)</td>\n",
       "      <td>Documentary</td>\n",
       "    </tr>\n",
       "  </tbody>\n",
       "</table>\n",
       "<p>10000038 rows × 6 columns</p>\n",
       "</div>"
      ],
      "text/plain": [
       "          userId  movieId  rating   timestamp  \\\n",
       "0           5163    57669     4.0  1518349992   \n",
       "1          87388    57669     3.5  1237455297   \n",
       "2         137050    57669     4.0  1425631854   \n",
       "3         120490    57669     4.5  1408228517   \n",
       "4          50616    57669     4.5  1446941640   \n",
       "...          ...      ...     ...         ...   \n",
       "10000033   84146   107912     3.0  1389449965   \n",
       "10000034   72315   190143     2.5  1567628158   \n",
       "10000035  131116   206347     3.0  1568558126   \n",
       "10000036   85757   196867     3.5  1563175258   \n",
       "10000037   72315    97148     3.0  1567584197   \n",
       "\n",
       "                                            title                       genres  \n",
       "0                                In Bruges (2008)  Comedy|Crime|Drama|Thriller  \n",
       "1                                In Bruges (2008)  Comedy|Crime|Drama|Thriller  \n",
       "2                                In Bruges (2008)  Comedy|Crime|Drama|Thriller  \n",
       "3                                In Bruges (2008)  Comedy|Crime|Drama|Thriller  \n",
       "4                                In Bruges (2008)  Comedy|Crime|Drama|Thriller  \n",
       "...                                           ...                          ...  \n",
       "10000033                       Fallen, The (2004)             Action|Drama|War  \n",
       "10000034                          Formentera Lady           (no genres listed)  \n",
       "10000035                          Nocturne (1946)          Crime|Drama|Mystery  \n",
       "10000036                      Guys & Balls (2004)               Comedy|Romance  \n",
       "10000037  Elia Kazan: A Director's Journey (1995)                  Documentary  \n",
       "\n",
       "[10000038 rows x 6 columns]"
      ]
     },
     "execution_count": 62,
     "metadata": {},
     "output_type": "execute_result"
    }
   ],
   "source": [
    "train_movies"
   ]
  },
  {
   "cell_type": "markdown",
   "id": "e26d4801",
   "metadata": {},
   "source": [
    "## 7. Model deployment"
   ]
  },
  {
   "cell_type": "code",
   "execution_count": 64,
   "id": "b7e5ec86",
   "metadata": {},
   "outputs": [],
   "source": [
    "X=train_movies.drop(['rating'], axis=1)\n",
    "y=train_movies['rating']"
   ]
  },
  {
   "cell_type": "code",
   "execution_count": 65,
   "id": "e727f910",
   "metadata": {},
   "outputs": [
    {
     "data": {
      "text/html": [
       "<div>\n",
       "<style scoped>\n",
       "    .dataframe tbody tr th:only-of-type {\n",
       "        vertical-align: middle;\n",
       "    }\n",
       "\n",
       "    .dataframe tbody tr th {\n",
       "        vertical-align: top;\n",
       "    }\n",
       "\n",
       "    .dataframe thead th {\n",
       "        text-align: right;\n",
       "    }\n",
       "</style>\n",
       "<table border=\"1\" class=\"dataframe\">\n",
       "  <thead>\n",
       "    <tr style=\"text-align: right;\">\n",
       "      <th></th>\n",
       "      <th>userId</th>\n",
       "      <th>movieId</th>\n",
       "      <th>timestamp</th>\n",
       "      <th>title</th>\n",
       "      <th>genres</th>\n",
       "    </tr>\n",
       "  </thead>\n",
       "  <tbody>\n",
       "    <tr>\n",
       "      <th>0</th>\n",
       "      <td>5163</td>\n",
       "      <td>57669</td>\n",
       "      <td>1518349992</td>\n",
       "      <td>In Bruges (2008)</td>\n",
       "      <td>Comedy|Crime|Drama|Thriller</td>\n",
       "    </tr>\n",
       "    <tr>\n",
       "      <th>1</th>\n",
       "      <td>87388</td>\n",
       "      <td>57669</td>\n",
       "      <td>1237455297</td>\n",
       "      <td>In Bruges (2008)</td>\n",
       "      <td>Comedy|Crime|Drama|Thriller</td>\n",
       "    </tr>\n",
       "    <tr>\n",
       "      <th>2</th>\n",
       "      <td>137050</td>\n",
       "      <td>57669</td>\n",
       "      <td>1425631854</td>\n",
       "      <td>In Bruges (2008)</td>\n",
       "      <td>Comedy|Crime|Drama|Thriller</td>\n",
       "    </tr>\n",
       "    <tr>\n",
       "      <th>3</th>\n",
       "      <td>120490</td>\n",
       "      <td>57669</td>\n",
       "      <td>1408228517</td>\n",
       "      <td>In Bruges (2008)</td>\n",
       "      <td>Comedy|Crime|Drama|Thriller</td>\n",
       "    </tr>\n",
       "    <tr>\n",
       "      <th>4</th>\n",
       "      <td>50616</td>\n",
       "      <td>57669</td>\n",
       "      <td>1446941640</td>\n",
       "      <td>In Bruges (2008)</td>\n",
       "      <td>Comedy|Crime|Drama|Thriller</td>\n",
       "    </tr>\n",
       "    <tr>\n",
       "      <th>...</th>\n",
       "      <td>...</td>\n",
       "      <td>...</td>\n",
       "      <td>...</td>\n",
       "      <td>...</td>\n",
       "      <td>...</td>\n",
       "    </tr>\n",
       "    <tr>\n",
       "      <th>10000033</th>\n",
       "      <td>84146</td>\n",
       "      <td>107912</td>\n",
       "      <td>1389449965</td>\n",
       "      <td>Fallen, The (2004)</td>\n",
       "      <td>Action|Drama|War</td>\n",
       "    </tr>\n",
       "    <tr>\n",
       "      <th>10000034</th>\n",
       "      <td>72315</td>\n",
       "      <td>190143</td>\n",
       "      <td>1567628158</td>\n",
       "      <td>Formentera Lady</td>\n",
       "      <td>(no genres listed)</td>\n",
       "    </tr>\n",
       "    <tr>\n",
       "      <th>10000035</th>\n",
       "      <td>131116</td>\n",
       "      <td>206347</td>\n",
       "      <td>1568558126</td>\n",
       "      <td>Nocturne (1946)</td>\n",
       "      <td>Crime|Drama|Mystery</td>\n",
       "    </tr>\n",
       "    <tr>\n",
       "      <th>10000036</th>\n",
       "      <td>85757</td>\n",
       "      <td>196867</td>\n",
       "      <td>1563175258</td>\n",
       "      <td>Guys &amp; Balls (2004)</td>\n",
       "      <td>Comedy|Romance</td>\n",
       "    </tr>\n",
       "    <tr>\n",
       "      <th>10000037</th>\n",
       "      <td>72315</td>\n",
       "      <td>97148</td>\n",
       "      <td>1567584197</td>\n",
       "      <td>Elia Kazan: A Director's Journey (1995)</td>\n",
       "      <td>Documentary</td>\n",
       "    </tr>\n",
       "  </tbody>\n",
       "</table>\n",
       "<p>10000038 rows × 5 columns</p>\n",
       "</div>"
      ],
      "text/plain": [
       "          userId  movieId   timestamp  \\\n",
       "0           5163    57669  1518349992   \n",
       "1          87388    57669  1237455297   \n",
       "2         137050    57669  1425631854   \n",
       "3         120490    57669  1408228517   \n",
       "4          50616    57669  1446941640   \n",
       "...          ...      ...         ...   \n",
       "10000033   84146   107912  1389449965   \n",
       "10000034   72315   190143  1567628158   \n",
       "10000035  131116   206347  1568558126   \n",
       "10000036   85757   196867  1563175258   \n",
       "10000037   72315    97148  1567584197   \n",
       "\n",
       "                                            title                       genres  \n",
       "0                                In Bruges (2008)  Comedy|Crime|Drama|Thriller  \n",
       "1                                In Bruges (2008)  Comedy|Crime|Drama|Thriller  \n",
       "2                                In Bruges (2008)  Comedy|Crime|Drama|Thriller  \n",
       "3                                In Bruges (2008)  Comedy|Crime|Drama|Thriller  \n",
       "4                                In Bruges (2008)  Comedy|Crime|Drama|Thriller  \n",
       "...                                           ...                          ...  \n",
       "10000033                       Fallen, The (2004)             Action|Drama|War  \n",
       "10000034                          Formentera Lady           (no genres listed)  \n",
       "10000035                          Nocturne (1946)          Crime|Drama|Mystery  \n",
       "10000036                      Guys & Balls (2004)               Comedy|Romance  \n",
       "10000037  Elia Kazan: A Director's Journey (1995)                  Documentary  \n",
       "\n",
       "[10000038 rows x 5 columns]"
      ]
     },
     "execution_count": 65,
     "metadata": {},
     "output_type": "execute_result"
    }
   ],
   "source": [
    "X"
   ]
  },
  {
   "cell_type": "code",
   "execution_count": 66,
   "id": "c9184314",
   "metadata": {},
   "outputs": [
    {
     "data": {
      "text/plain": [
       "0           4.0\n",
       "1           3.5\n",
       "2           4.0\n",
       "3           4.5\n",
       "4           4.5\n",
       "           ... \n",
       "10000033    3.0\n",
       "10000034    2.5\n",
       "10000035    3.0\n",
       "10000036    3.5\n",
       "10000037    3.0\n",
       "Name: rating, Length: 10000038, dtype: float64"
      ]
     },
     "execution_count": 66,
     "metadata": {},
     "output_type": "execute_result"
    }
   ],
   "source": [
    "y"
   ]
  },
  {
   "cell_type": "code",
   "execution_count": 67,
   "id": "c93bfc7b",
   "metadata": {},
   "outputs": [
    {
     "data": {
      "text/plain": [
       "(10000038, 5)"
      ]
     },
     "execution_count": 67,
     "metadata": {},
     "output_type": "execute_result"
    }
   ],
   "source": [
    "X.shape"
   ]
  },
  {
   "cell_type": "code",
   "execution_count": 68,
   "id": "988652f6",
   "metadata": {},
   "outputs": [
    {
     "data": {
      "text/plain": [
       "(10000038,)"
      ]
     },
     "execution_count": 68,
     "metadata": {},
     "output_type": "execute_result"
    }
   ],
   "source": [
    "y.shape"
   ]
  },
  {
   "cell_type": "code",
   "execution_count": null,
   "id": "04bcbc5c",
   "metadata": {},
   "outputs": [],
   "source": []
  },
  {
   "cell_type": "code",
   "execution_count": null,
   "id": "c751bb42",
   "metadata": {},
   "outputs": [],
   "source": []
  },
  {
   "cell_type": "code",
   "execution_count": null,
   "id": "3587c43b",
   "metadata": {},
   "outputs": [],
   "source": []
  },
  {
   "cell_type": "markdown",
   "id": "c6dcf52f",
   "metadata": {},
   "source": [
    "## 8. Model perfomance"
   ]
  },
  {
   "cell_type": "code",
   "execution_count": null,
   "id": "f02f0c89",
   "metadata": {},
   "outputs": [],
   "source": []
  },
  {
   "cell_type": "markdown",
   "id": "94689256",
   "metadata": {},
   "source": [
    "## 9. Model explanation"
   ]
  },
  {
   "cell_type": "code",
   "execution_count": null,
   "id": "a155520b",
   "metadata": {},
   "outputs": [],
   "source": []
  },
  {
   "cell_type": "markdown",
   "id": "5773e36e",
   "metadata": {},
   "source": [
    "## 10. Conclusion"
   ]
  },
  {
   "cell_type": "code",
   "execution_count": null,
   "id": "cf3ec51e",
   "metadata": {},
   "outputs": [],
   "source": []
  },
  {
   "cell_type": "markdown",
   "id": "0afc40e5",
   "metadata": {},
   "source": [
    "## 11. References"
   ]
  },
  {
   "cell_type": "code",
   "execution_count": null,
   "id": "94101d82",
   "metadata": {},
   "outputs": [],
   "source": []
  },
  {
   "cell_type": "code",
   "execution_count": null,
   "id": "3b3e853f",
   "metadata": {},
   "outputs": [],
   "source": []
  }
 ],
 "metadata": {
  "kernelspec": {
   "display_name": "Python 3 (ipykernel)",
   "language": "python",
   "name": "python3"
  },
  "language_info": {
   "codemirror_mode": {
    "name": "ipython",
    "version": 3
   },
   "file_extension": ".py",
   "mimetype": "text/x-python",
   "name": "python",
   "nbconvert_exporter": "python",
   "pygments_lexer": "ipython3",
   "version": "3.9.7"
  }
 },
 "nbformat": 4,
 "nbformat_minor": 5
}
